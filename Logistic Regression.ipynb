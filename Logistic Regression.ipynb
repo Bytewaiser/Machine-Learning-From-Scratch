{
 "cells": [
  {
   "cell_type": "code",
   "execution_count": 11,
   "id": "9909854c-452e-482d-befe-5d8b8882effd",
   "metadata": {},
   "outputs": [],
   "source": [
    "import math\n",
    "import numpy as np\n",
    "from sklearn.datasets import make_classification\n",
    "import matplotlib.pyplot as plt\n",
    "plt.rc(\"figure\", figsize=(12,6))"
   ]
  },
  {
   "cell_type": "code",
   "execution_count": 79,
   "id": "a5f8c7af-0213-4eda-a1bc-80747aa4fd59",
   "metadata": {},
   "outputs": [
    {
     "data": {
      "text/plain": [
       "(array([0, 1]), array([500, 500]))"
      ]
     },
     "execution_count": 79,
     "metadata": {},
     "output_type": "execute_result"
    }
   ],
   "source": [
    "X, y = make_classification(n_samples=1000, n_features=10)\n",
    "np.unique(y, return_counts=True)"
   ]
  },
  {
   "cell_type": "markdown",
   "id": "688fe2da-df2a-4fa6-8dea-3b34ba26562b",
   "metadata": {},
   "source": [
    "## Vanilla Python"
   ]
  },
  {
   "cell_type": "code",
   "execution_count": 82,
   "id": "b0b03711-a7b9-4e94-a1aa-89589233e49f",
   "metadata": {},
   "outputs": [],
   "source": [
    "def py_accuracy(y_pred, y):\n",
    "    size = len(y)\n",
    "    result = 0\n",
    "    for i in range(size):\n",
    "        result += round(y_pred[i]) == y[i]\n",
    "    return result / size\n",
    "    \n",
    "def py_dot_product(vec1, vec2):\n",
    "    size = len(vec1)\n",
    "    result = [0] * size\n",
    "    for i in range(size):\n",
    "        result[i] = vec1[i] * vec2[i]\n",
    "    return sum(result)\n",
    "    \n",
    "    \n",
    "def py_sigmoid(x):\n",
    "    return 1 / (1 + math.e**-x)\n",
    "\n",
    "def py_forward(w, X):\n",
    "    size = len(X)\n",
    "    predict = [0] * size\n",
    "    for i in range(size):\n",
    "        dot = py_dot_product(X[i], w)\n",
    "        predict[i] = py_sigmoid(dot)\n",
    "    return predict\n",
    "\n",
    "def py_loss(predict, y):\n",
    "    size = len(y)\n",
    "    result = 0\n",
    "    for i in range(size):\n",
    "        p_1 = -y[i] * math.log(predict[i])\n",
    "        p_0 = -(1 - y[i]) * math.log(1 - predict[i])\n",
    "        result += p_0 + p_1\n",
    "    return result / size\n",
    "\n",
    "# Jacobian is the same\n",
    "def py_grad(predict, X, y):\n",
    "    size = len(y)\n",
    "    column_size = len(X[0])\n",
    "    grad = [0] * column_size\n",
    "    for i in range(size):\n",
    "        vals = [0] * column_size\n",
    "        for j in range(column_size):\n",
    "            grad[j] += (predict[i] - y[i]) * X[i][j]\n",
    "    return grad\n",
    "\n",
    "def py_update_params(w, grad, lr):\n",
    "    return [w[i] - lr * grad[i] for i in range(len(w))]"
   ]
  },
  {
   "cell_type": "code",
   "execution_count": 98,
   "id": "cdf8be63-d380-4c5b-8235-573f2833d3e1",
   "metadata": {},
   "outputs": [],
   "source": [
    "py_X = np.insert(X, 0, 1, axis=1).tolist()\n",
    "py_y = y.tolist()\n",
    "py_w = [0]*len(py_X[0])"
   ]
  },
  {
   "cell_type": "code",
   "execution_count": 99,
   "id": "f9eb3641-c820-4fe8-b862-5c82c1ec964e",
   "metadata": {},
   "outputs": [],
   "source": [
    "n_iter = 100\n",
    "history = [0] * n_iter\n",
    "accuracy = [0] * n_iter\n",
    "for i in range(n_iter):\n",
    "    pred = py_forward(py_w, py_X)\n",
    "    history[i] = py_loss(pred, py_y)\n",
    "    accuracy[i] = py_accuracy(pred, py_y)\n",
    "    grad = py_grad(pred, py_X, py_y)\n",
    "    py_w = py_update_params(py_w, grad, 0.001)"
   ]
  },
  {
   "cell_type": "code",
   "execution_count": 102,
   "id": "5506b028-11b2-4e6f-b9f6-899ea17c17dd",
   "metadata": {},
   "outputs": [
    {
     "data": {
      "image/png": "[encoded data removed]",
      "text/plain": [
       "<Figure size 864x432 with 1 Axes>"
      ]
     },
     "metadata": {
      "needs_background": "light"
     },
     "output_type": "display_data"
    }
   ],
   "source": [
    "plt.plot(history)\n",
    "plt.plot(accuracy)\n",
    "plt.legend([\"Loss\", \"Accuracy\"])\n",
    "plt.show()"
   ]
  },
  {
   "cell_type": "code",
   "execution_count": null,
   "id": "d725a23e-6662-4e5f-ab80-8b646b677180",
   "metadata": {},
   "outputs": [],
   "source": []
  }
 ],
 "metadata": {
  "kernelspec": {
   "display_name": "Python 3 (ipykernel)",
   "language": "python",
   "name": "python3"
  },
  "language_info": {
   "codemirror_mode": {
    "name": "ipython",
    "version": 3
   },
   "file_extension": ".py",
   "mimetype": "text/x-python",
   "name": "python",
   "nbconvert_exporter": "python",
   "pygments_lexer": "ipython3",
   "version": "3.9.4"
  }
 },
 "nbformat": 4,
 "nbformat_minor": 5
}
