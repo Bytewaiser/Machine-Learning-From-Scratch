{
 "cells": [
  {
   "cell_type": "code",
   "execution_count": 11,
   "id": "9909854c-452e-482d-befe-5d8b8882effd",
   "metadata": {},
   "outputs": [],
   "source": [
    "import math\n",
    "import numpy as np\n",
    "from sklearn.datasets import make_classification\n",
    "import matplotlib.pyplot as plt\n",
    "plt.rc(\"figure\", figsize=(12,6))"
   ]
  },
  {
   "cell_type": "code",
   "execution_count": 79,
   "id": "a5f8c7af-0213-4eda-a1bc-80747aa4fd59",
   "metadata": {},
   "outputs": [
    {
     "data": {
      "text/plain": [
       "(array([0, 1]), array([500, 500]))"
      ]
     },
     "execution_count": 79,
     "metadata": {},
     "output_type": "execute_result"
    }
   ],
   "source": [
    "X, y = make_classification(n_samples=1000, n_features=10)\n",
    "np.unique(y, return_counts=True)"
   ]
  },
  {
   "cell_type": "markdown",
   "id": "688fe2da-df2a-4fa6-8dea-3b34ba26562b",
   "metadata": {},
   "source": [
    "## Vanilla Python"
   ]
  },
  {
   "cell_type": "code",
   "execution_count": 248,
   "id": "b0b03711-a7b9-4e94-a1aa-89589233e49f",
   "metadata": {},
   "outputs": [],
   "source": [
    "def py_accuracy(y_pred, y):\n",
    "    size = len(y)\n",
    "    result = 0\n",
    "    for i in range(size):\n",
    "        result += round(y_pred[i]) == y[i]\n",
    "    return result / size\n",
    "    \n",
    "def py_dot_product(vec1, vec2):\n",
    "    size = len(vec1)\n",
    "    result = [0] * size\n",
    "    for i in range(size):\n",
    "        result[i] = vec1[i] * vec2[i]\n",
    "    return sum(result)\n",
    "    \n",
    "    \n",
    "def py_sigmoid(x):\n",
    "    return 1 / (1 + math.e**-x)\n",
    "\n",
    "def py_forward(w, X):\n",
    "    size = len(X)\n",
    "    predict = [0] * size\n",
    "    for i in range(size):\n",
    "        dot = py_dot_product(X[i], w)\n",
    "        predict[i] = py_sigmoid(dot)\n",
    "    return predict\n",
    "\n",
    "def py_loss(predict, y):\n",
    "    size = len(y)\n",
    "    result = 0\n",
    "    for i in range(size):\n",
    "        p_1 = - y[i] * math.log(predict[i])\n",
    "        p_0 = -(1 - y[i]) * math.log(1 - predict[i])\n",
    "        result += p_0 + p_1\n",
    "    return result / size\n",
    "\n",
    "# Jacobian is the same\n",
    "def py_grad(predict, X, y):\n",
    "    size = len(y)\n",
    "    column_size = len(X[0])\n",
    "    grad = [0] * column_size\n",
    "    for i in range(size):\n",
    "        vals = [0] * column_size\n",
    "        for j in range(column_size):\n",
    "            grad[j] += (predict[i] - y[i]) * X[i][j]\n",
    "    return grad\n",
    "\n",
    "def py_update_params(w, grad, lr):\n",
    "    return [w[i] - lr * grad[i] for i in range(len(w))]"
   ]
  },
  {
   "cell_type": "code",
   "execution_count": 249,
   "id": "cdf8be63-d380-4c5b-8235-573f2833d3e1",
   "metadata": {},
   "outputs": [],
   "source": [
    "py_X = np.insert(X, 0, 1, axis=1).tolist()\n",
    "py_y = y.tolist()\n",
    "py_w = [0]*len(py_X[0])"
   ]
  },
  {
   "cell_type": "code",
   "execution_count": 250,
   "id": "f9eb3641-c820-4fe8-b862-5c82c1ec964e",
   "metadata": {},
   "outputs": [
    {
     "name": "stdout",
     "output_type": "stream",
     "text": [
      "Accuracy: 0.863\n"
     ]
    }
   ],
   "source": [
    "n_iter = 100\n",
    "history = [0] * n_iter\n",
    "accuracy = [0] * n_iter\n",
    "for i in range(n_iter):\n",
    "    pred = py_forward(py_w, py_X)\n",
    "    history[i] = py_loss(pred, py_y)\n",
    "    accuracy[i] = py_accuracy(pred, py_y)\n",
    "    grad = py_grad(pred, py_X, py_y)\n",
    "    py_w = py_update_params(py_w, grad, 0.001)\n",
    "\n",
    "print(\"Accuracy:\", accuracy[-1])"
   ]
  },
  {
   "cell_type": "code",
   "execution_count": 251,
   "id": "342a2b04-1c00-4a00-8191-2c5bbe1e8d79",
   "metadata": {},
   "outputs": [
    {
     "data": {
      "text/plain": [
       "[0.07774924569660538,\n",
       " -0.6774254288894237,\n",
       " 0.009479832767762507,\n",
       " 0.1540723056414814,\n",
       " 0.07550578467204468,\n",
       " 1.622369676770912,\n",
       " -0.03563948167345309,\n",
       " -0.06756975400462847,\n",
       " 0.8191238366508318,\n",
       " -0.5795328014465245,\n",
       " -0.06753504733290507]"
      ]
     },
     "execution_count": 251,
     "metadata": {},
     "output_type": "execute_result"
    }
   ],
   "source": [
    "py_w"
   ]
  },
  {
   "cell_type": "code",
   "execution_count": 252,
   "id": "5506b028-11b2-4e6f-b9f6-899ea17c17dd",
   "metadata": {},
   "outputs": [
    {
     "data": {
      "image/png": "[encoded data removed]",
      "text/plain": [
       "<Figure size 864x432 with 1 Axes>"
      ]
     },
     "metadata": {
      "needs_background": "light"
     },
     "output_type": "display_data"
    }
   ],
   "source": [
    "plt.plot(history)\n",
    "plt.plot(accuracy)\n",
    "plt.legend([\"Loss\", \"Accuracy\"])\n",
    "plt.show()"
   ]
  },
  {
   "cell_type": "markdown",
   "id": "45243b39-eca9-49d5-bbeb-6af0294fced5",
   "metadata": {},
   "source": [
    "## Numpy"
   ]
  },
  {
   "cell_type": "code",
   "execution_count": 253,
   "id": "eae7709f-5569-494e-9bad-6d4dc2f8cfcf",
   "metadata": {},
   "outputs": [],
   "source": [
    "def np_accuracy(y_pred, y):\n",
    "    return np.mean(np.round(y_pred) == y)\n",
    "        \n",
    "def np_sigmoid(x):\n",
    "    return 1 / (1 + np.exp(-x))\n",
    "\n",
    "def np_forward(w, X):\n",
    "    return np_sigmoid(X.dot(w))\n",
    "\n",
    "def np_loss(y_pred, y):\n",
    "    p_1 = -y * np.log(y_pred)\n",
    "    p_0 = -(1 - y) * np.log(1 - y_pred)\n",
    "    return np.mean(p_0 + p_1)\n",
    "\n",
    "# Same Jacobian\n",
    "def np_grad(y_pred, X, y):\n",
    "    column_size = X.shape[1]\n",
    "    grad = np.empty(column_size)\n",
    "    for i in range(column_size):\n",
    "        grad[i] = np.sum((y_pred - y) * X[:, i])\n",
    "    return grad\n",
    "\n",
    "# Pass by reference\n",
    "def np_update_params(w, grad, lr):\n",
    "    w -= lr * grad"
   ]
  },
  {
   "cell_type": "code",
   "execution_count": 254,
   "id": "fd9bb110-9c43-48db-ba47-54c8b18b89f8",
   "metadata": {},
   "outputs": [],
   "source": [
    "np_X = np.insert(X, 0, 1, axis=1)\n",
    "np_y = y\n",
    "np_w = np.zeros(np_X.shape[1])"
   ]
  },
  {
   "cell_type": "code",
   "execution_count": 255,
   "id": "b705ae79-0cce-4316-89f7-74d282197bd2",
   "metadata": {},
   "outputs": [
    {
     "name": "stdout",
     "output_type": "stream",
     "text": [
      "Accuracy: 0.863\n"
     ]
    }
   ],
   "source": [
    "n_iter = 100\n",
    "history = np.empty(n_iter)\n",
    "accuracy = [0] * n_iter\n",
    "for i in range(n_iter):\n",
    "    pred = np_forward(np_w, np_X)\n",
    "    history[i] = np_loss(pred, np_y)\n",
    "    accuracy[i] = np_accuracy(pred, py_y)\n",
    "    grad = np_grad(pred, np_X, np_y)\n",
    "    np_update_params(np_w, grad, 0.001)\n",
    "\n",
    "print(\"Accuracy:\", accuracy[-1])"
   ]
  },
  {
   "cell_type": "code",
   "execution_count": 257,
   "id": "d872a9ac-6550-4271-b67a-163b5175eee0",
   "metadata": {},
   "outputs": [
    {
     "data": {
      "text/plain": [
       "array([ 0.07774925, -0.67742543,  0.00947983,  0.15407231,  0.07550578,\n",
       "        1.62236968, -0.03563948, -0.06756975,  0.81912384, -0.5795328 ,\n",
       "       -0.06753505])"
      ]
     },
     "execution_count": 257,
     "metadata": {},
     "output_type": "execute_result"
    }
   ],
   "source": [
    "np_w"
   ]
  },
  {
   "cell_type": "code",
   "execution_count": 258,
   "id": "87d04f22-987a-4054-935b-0971296d70fc",
   "metadata": {},
   "outputs": [
    {
     "data": {
      "image/png": "[encoded data removed]",
      "text/plain": [
       "<Figure size 864x432 with 1 Axes>"
      ]
     },
     "metadata": {
      "needs_background": "light"
     },
     "output_type": "display_data"
    }
   ],
   "source": [
    "plt.plot(history)\n",
    "plt.plot(accuracy)\n",
    "plt.legend([\"Loss\", \"Accuracy\"])\n",
    "plt.show()"
   ]
  },
  {
   "cell_type": "markdown",
   "id": "789a8a80-2f18-4e88-9781-7073ea11d2ee",
   "metadata": {},
   "source": [
    "## Jax"
   ]
  },
  {
   "cell_type": "code",
   "execution_count": 259,
   "id": "d63fb0fd-3036-4ea4-9961-dc5dd4d7f339",
   "metadata": {},
   "outputs": [],
   "source": [
    "import jax\n",
    "from jax import jit\n",
    "from jax import grad as jgrad\n",
    "from jax import numpy as jnp\n",
    "\n",
    "# Setting device to cpu\n",
    "jax.config.update('jax_platform_name', 'cpu')"
   ]
  },
  {
   "cell_type": "code",
   "execution_count": 264,
   "id": "8f0b80b3-2983-4ad7-9abd-2517b3786c80",
   "metadata": {},
   "outputs": [],
   "source": [
    "@jit\n",
    "def jax_accuracy(y_pred, y):\n",
    "    return jnp.mean(jnp.round(y_pred) == y)\n",
    "\n",
    "@jit\n",
    "def jax_sigmoid(x):\n",
    "    return 1 / (1 + jnp.exp(-x))\n",
    "\n",
    "@jit\n",
    "def jax_forward(w, X):\n",
    "    return jax_sigmoid(X.dot(w))\n",
    "\n",
    "@jit\n",
    "def jax_loss(w, X, y):\n",
    "    y_pred = jax_forward(w, X)\n",
    "    p_1 = -y * jnp.log(y_pred) \n",
    "    p_0 = -(1 - y) * jnp.log(1 - y_pred) \n",
    "    return jnp.mean(p_0 + p_1)\n",
    "\n",
    "jax_grad = jit(jgrad(jax_loss))\n",
    "\n",
    "@jit\n",
    "def jax_update_params(w, grad, lr):\n",
    "    # Jax does not allow side effects\n",
    "    # So have to return a new array\n",
    "    return w - grad * lr"
   ]
  },
  {
   "cell_type": "code",
   "execution_count": 312,
   "id": "5f5632cc-90fa-4b3b-9444-aa552ddd8829",
   "metadata": {},
   "outputs": [],
   "source": [
    "# Jax have not implemented insertion yet\n",
    "# and I do not think it will because of\n",
    "# its functional and immutable arrays\n",
    "\n",
    "jax_X = jnp.array(np.insert(X, 0, 1, axis=1))\n",
    "jax_y = jnp.array(y)\n",
    "jax_w = jnp.zeros(jax_X.shape[1])"
   ]
  },
  {
   "cell_type": "code",
   "execution_count": 313,
   "id": "c0076026-3640-4e57-858d-a398820a64aa",
   "metadata": {},
   "outputs": [
    {
     "name": "stdout",
     "output_type": "stream",
     "text": [
      "Accuracy: 0.86300004\n"
     ]
    }
   ],
   "source": [
    "n_iter = 100\n",
    "history = jnp.empty(n_iter)\n",
    "accuracy = jnp.empty(n_iter)\n",
    "lr = jnp.array(1.)\n",
    "for i in range(n_iter):\n",
    "    pred = jax_forward(jax_w, jax_X)\n",
    "    loss = jax_loss(jax_w, jax_X, jax_y)\n",
    "    acc = jax_accuracy(pred, jax_y)\n",
    "    history = jax.ops.index_update(history, i, loss)\n",
    "    accuracy = jax.ops.index_update(accuracy, i, acc)\n",
    "    grad = jax_grad(jax_w, jax_X, jax_y)\n",
    "\n",
    "    # For me gradients were 1000 times smaller than numpy\n",
    "    # for this reason I choose learning rate = 1\n",
    "    jax_w = jax_update_params(jax_w, grad, lr)\n",
    "    \n",
    "print(\"Accuracy:\", acc)"
   ]
  },
  {
   "cell_type": "code",
   "execution_count": 314,
   "id": "e3e4b2a0-3aec-4abb-98b9-ec51957865ca",
   "metadata": {},
   "outputs": [
    {
     "data": {
      "text/plain": [
       "DeviceArray([ 0.07774924, -0.67742544,  0.00947983,  0.15407228,\n",
       "              0.0755058 ,  1.6223695 , -0.03563949, -0.06756974,\n",
       "              0.819124  , -0.5795329 , -0.06753504], dtype=float32)"
      ]
     },
     "execution_count": 314,
     "metadata": {},
     "output_type": "execute_result"
    }
   ],
   "source": [
    "jax_w"
   ]
  },
  {
   "cell_type": "code",
   "execution_count": 315,
   "id": "91baa87a-073e-41be-94ba-6336e4960e61",
   "metadata": {},
   "outputs": [
    {
     "data": {
      "image/png": "[encoded data removed]",
      "text/plain": [
       "<Figure size 864x432 with 1 Axes>"
      ]
     },
     "metadata": {
      "needs_background": "light"
     },
     "output_type": "display_data"
    }
   ],
   "source": [
    "plt.plot(history)\n",
    "plt.plot(accuracy)\n",
    "plt.legend([\"Loss\", \"Accuracy\"])\n",
    "plt.show()"
   ]
  }
 ],
 "metadata": {
  "kernelspec": {
   "display_name": "Python 3 (ipykernel)",
   "language": "python",
   "name": "python3"
  },
  "language_info": {
   "codemirror_mode": {
    "name": "ipython",
    "version": 3
   },
   "file_extension": ".py",
   "mimetype": "text/x-python",
   "name": "python",
   "nbconvert_exporter": "python",
   "pygments_lexer": "ipython3",
   "version": "3.9.4"
  }
 },
 "nbformat": 4,
 "nbformat_minor": 5
}
