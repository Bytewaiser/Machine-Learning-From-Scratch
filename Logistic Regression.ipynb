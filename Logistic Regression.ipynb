{
 "cells": [
  {
   "cell_type": "code",
   "execution_count": 1,
   "id": "9909854c-452e-482d-befe-5d8b8882effd",
   "metadata": {},
   "outputs": [],
   "source": [
    "import math\n",
    "import numpy as np\n",
    "from sklearn.datasets import make_classification\n",
    "import matplotlib.pyplot as plt\n",
    "plt.rc(\"figure\", figsize=(12,6))"
   ]
  },
  {
   "cell_type": "code",
   "execution_count": 2,
   "id": "a5f8c7af-0213-4eda-a1bc-80747aa4fd59",
   "metadata": {},
   "outputs": [
    {
     "data": {
      "text/plain": [
       "(array([0, 1]), array([499, 501]))"
      ]
     },
     "execution_count": 2,
     "metadata": {},
     "output_type": "execute_result"
    }
   ],
   "source": [
    "X, y = make_classification(n_samples=1000, n_features=10, random_state=0)\n",
    "np.unique(y, return_counts=True)"
   ]
  },
  {
   "cell_type": "markdown",
   "id": "688fe2da-df2a-4fa6-8dea-3b34ba26562b",
   "metadata": {},
   "source": [
    "## Vanilla Python"
   ]
  },
  {
   "cell_type": "code",
   "execution_count": 3,
   "id": "b0b03711-a7b9-4e94-a1aa-89589233e49f",
   "metadata": {},
   "outputs": [],
   "source": [
    "def py_accuracy(y_pred, y):\n",
    "    size = len(y)\n",
    "    result = 0\n",
    "    for i in range(size):\n",
    "        result += round(y_pred[i]) == y[i]\n",
    "    return result / size\n",
    "    \n",
    "def py_dot_product(vec1, vec2):\n",
    "    size = len(vec1)\n",
    "    result = [0] * size\n",
    "    for i in range(size):\n",
    "        result[i] = vec1[i] * vec2[i]\n",
    "    return sum(result)\n",
    "    \n",
    "    \n",
    "def py_sigmoid(x):\n",
    "    return 1 / (1 + math.e**-x)\n",
    "\n",
    "def py_forward(w, X):\n",
    "    size = len(X)\n",
    "    predict = [0] * size\n",
    "    for i in range(size):\n",
    "        dot = py_dot_product(X[i], w)\n",
    "        predict[i] = py_sigmoid(dot)\n",
    "    return predict\n",
    "\n",
    "def py_loss(predict, y):\n",
    "    size = len(y)\n",
    "    result = 0\n",
    "    for i in range(size):\n",
    "        p_1 = - y[i] * math.log(predict[i])\n",
    "        p_0 = -(1 - y[i]) * math.log(1 - predict[i])\n",
    "        result += p_0 + p_1\n",
    "    return result / size\n",
    "\n",
    "# Jacobian is the same\n",
    "def py_grad(predict, X, y):\n",
    "    size = len(y)\n",
    "    column_size = len(X[0])\n",
    "    grad = [0] * column_size\n",
    "    for i in range(size):\n",
    "        vals = [0] * column_size\n",
    "        for j in range(column_size):\n",
    "            grad[j] += (predict[i] - y[i]) * X[i][j]\n",
    "    return grad\n",
    "\n",
    "def py_update_params(w, grad, lr):\n",
    "    return [w[i] - lr * grad[i] for i in range(len(w))]"
   ]
  },
  {
   "cell_type": "code",
   "execution_count": 4,
   "id": "cdf8be63-d380-4c5b-8235-573f2833d3e1",
   "metadata": {},
   "outputs": [],
   "source": [
    "py_X = np.insert(X, 0, 1, axis=1).tolist()\n",
    "py_y = y.tolist()\n",
    "py_w = [0]*len(py_X[0])"
   ]
  },
  {
   "cell_type": "code",
   "execution_count": 5,
   "id": "f9eb3641-c820-4fe8-b862-5c82c1ec964e",
   "metadata": {},
   "outputs": [
    {
     "name": "stdout",
     "output_type": "stream",
     "text": [
      "Accuracy: 0.945\n"
     ]
    }
   ],
   "source": [
    "n_iter = 10\n",
    "history = [0] * n_iter\n",
    "accuracy = [0] * n_iter\n",
    "for i in range(n_iter):\n",
    "    pred = py_forward(py_w, py_X)\n",
    "    history[i] = py_loss(pred, py_y)\n",
    "    accuracy[i] = py_accuracy(pred, py_y)\n",
    "    grad = py_grad(pred, py_X, py_y)\n",
    "    py_w = py_update_params(py_w, grad, 0.001)\n",
    "\n",
    "print(\"Accuracy:\", accuracy[-1])"
   ]
  },
  {
   "cell_type": "code",
   "execution_count": 6,
   "id": "342a2b04-1c00-4a00-8191-2c5bbe1e8d79",
   "metadata": {},
   "outputs": [
    {
     "data": {
      "text/plain": [
       "array([ 0.10926956, -0.0345767 , -0.00194332,  0.6339341 ,  1.04793049,\n",
       "       -0.03072205,  0.08916048,  1.45113449, -0.01019018, -0.00855314,\n",
       "       -0.03996327])"
      ]
     },
     "execution_count": 6,
     "metadata": {},
     "output_type": "execute_result"
    }
   ],
   "source": [
    "np.array(py_w)"
   ]
  },
  {
   "cell_type": "code",
   "execution_count": 7,
   "id": "5506b028-11b2-4e6f-b9f6-899ea17c17dd",
   "metadata": {},
   "outputs": [
    {
     "data": {
      "image/png": "[encoded data removed]",
      "text/plain": [
       "<Figure size 864x432 with 1 Axes>"
      ]
     },
     "metadata": {
      "needs_background": "light"
     },
     "output_type": "display_data"
    }
   ],
   "source": [
    "plt.plot(history)\n",
    "plt.plot(accuracy)\n",
    "plt.legend([\"Loss\", \"Accuracy\"])\n",
    "plt.show()"
   ]
  },
  {
   "cell_type": "markdown",
   "id": "45243b39-eca9-49d5-bbeb-6af0294fced5",
   "metadata": {},
   "source": [
    "## Numpy"
   ]
  },
  {
   "cell_type": "code",
   "execution_count": 8,
   "id": "eae7709f-5569-494e-9bad-6d4dc2f8cfcf",
   "metadata": {},
   "outputs": [],
   "source": [
    "def np_accuracy(y_pred, y):\n",
    "    return np.mean(np.round(y_pred) == y)\n",
    "        \n",
    "def np_sigmoid(x):\n",
    "    return 1 / (1 + np.exp(-x))\n",
    "\n",
    "def np_forward(w, X):\n",
    "    return np_sigmoid(X.dot(w))\n",
    "\n",
    "def np_loss(y_pred, y):\n",
    "    p_1 = -y * np.log(y_pred)\n",
    "    p_0 = -(1 - y) * np.log(1 - y_pred)\n",
    "    return np.mean(p_0 + p_1)\n",
    "\n",
    "# Same Jacobian\n",
    "def np_grad(y_pred, X, y):\n",
    "    column_size = X.shape[1]\n",
    "    grad = np.empty(column_size)\n",
    "    for i in range(column_size):\n",
    "        grad[i] = np.sum((y_pred - y) * X[:, i])\n",
    "    return grad\n",
    "\n",
    "# Pass by reference\n",
    "def np_update_params(w, grad, lr):\n",
    "    w -= lr * grad"
   ]
  },
  {
   "cell_type": "code",
   "execution_count": 9,
   "id": "fd9bb110-9c43-48db-ba47-54c8b18b89f8",
   "metadata": {},
   "outputs": [],
   "source": [
    "np_X = np.insert(X, 0, 1, axis=1)\n",
    "np_y = y\n",
    "np_w = np.zeros(np_X.shape[1])"
   ]
  },
  {
   "cell_type": "code",
   "execution_count": 10,
   "id": "b705ae79-0cce-4316-89f7-74d282197bd2",
   "metadata": {},
   "outputs": [
    {
     "name": "stdout",
     "output_type": "stream",
     "text": [
      "Accuracy: 0.945\n"
     ]
    }
   ],
   "source": [
    "n_iter = 10\n",
    "history = np.empty(n_iter)\n",
    "accuracy = [0] * n_iter\n",
    "for i in range(n_iter):\n",
    "    pred = np_forward(np_w, np_X)\n",
    "    history[i] = np_loss(pred, np_y)\n",
    "    accuracy[i] = np_accuracy(pred, py_y)\n",
    "    grad = np_grad(pred, np_X, np_y)\n",
    "    np_update_params(np_w, grad, 0.001)\n",
    "\n",
    "print(\"Accuracy:\", accuracy[-1])"
   ]
  },
  {
   "cell_type": "code",
   "execution_count": 11,
   "id": "d872a9ac-6550-4271-b67a-163b5175eee0",
   "metadata": {},
   "outputs": [
    {
     "data": {
      "text/plain": [
       "array([ 0.10926956, -0.0345767 , -0.00194332,  0.6339341 ,  1.04793049,\n",
       "       -0.03072205,  0.08916048,  1.45113449, -0.01019018, -0.00855314,\n",
       "       -0.03996327])"
      ]
     },
     "execution_count": 11,
     "metadata": {},
     "output_type": "execute_result"
    }
   ],
   "source": [
    "np_w"
   ]
  },
  {
   "cell_type": "code",
   "execution_count": 12,
   "id": "87d04f22-987a-4054-935b-0971296d70fc",
   "metadata": {},
   "outputs": [
    {
     "data": {
      "image/png": "[encoded data removed]",
      "text/plain": [
       "<Figure size 864x432 with 1 Axes>"
      ]
     },
     "metadata": {
      "needs_background": "light"
     },
     "output_type": "display_data"
    }
   ],
   "source": [
    "plt.plot(history)\n",
    "plt.plot(accuracy)\n",
    "plt.legend([\"Loss\", \"Accuracy\"])\n",
    "plt.show()"
   ]
  },
  {
   "cell_type": "markdown",
   "id": "789a8a80-2f18-4e88-9781-7073ea11d2ee",
   "metadata": {},
   "source": [
    "## Jax"
   ]
  },
  {
   "cell_type": "code",
   "execution_count": 13,
   "id": "d63fb0fd-3036-4ea4-9961-dc5dd4d7f339",
   "metadata": {},
   "outputs": [],
   "source": [
    "import jax\n",
    "from jax import jit\n",
    "from jax import grad as jgrad\n",
    "from jax import numpy as jnp\n",
    "\n",
    "# Setting device to cpu\n",
    "jax.config.update('jax_platform_name', 'cpu')"
   ]
  },
  {
   "cell_type": "code",
   "execution_count": 14,
   "id": "8f0b80b3-2983-4ad7-9abd-2517b3786c80",
   "metadata": {},
   "outputs": [],
   "source": [
    "@jit\n",
    "def jax_accuracy(y_pred, y):\n",
    "    return jnp.mean(jnp.round(y_pred) == y)\n",
    "\n",
    "@jit\n",
    "def jax_sigmoid(x):\n",
    "    return 1 / (1 + jnp.exp(-x))\n",
    "\n",
    "@jit\n",
    "def jax_forward(w, X):\n",
    "    return jax_sigmoid(X.dot(w))\n",
    "\n",
    "@jit\n",
    "def jax_loss(w, X, y):\n",
    "    y_pred = jax_forward(w, X)\n",
    "    p_1 = -y * jnp.log(y_pred) \n",
    "    p_0 = -(1 - y) * jnp.log(1 - y_pred) \n",
    "    return jnp.mean(p_0 + p_1)\n",
    "\n",
    "jax_grad = jit(jgrad(jax_loss))\n",
    "\n",
    "@jit\n",
    "def jax_update_params(w, grad, lr):\n",
    "    # Jax does not allow side effects\n",
    "    # So have to return a new array\n",
    "    return w - grad * lr"
   ]
  },
  {
   "cell_type": "code",
   "execution_count": 15,
   "id": "5f5632cc-90fa-4b3b-9444-aa552ddd8829",
   "metadata": {},
   "outputs": [],
   "source": [
    "# Jax have not implemented insertion yet\n",
    "# and I do not think it will because of\n",
    "# its functional and immutable arrays\n",
    "\n",
    "jax_X = jnp.array(np.insert(X, 0, 1, axis=1))\n",
    "jax_y = jnp.array(y)\n",
    "jax_w = jnp.zeros(jax_X.shape[1])"
   ]
  },
  {
   "cell_type": "code",
   "execution_count": 16,
   "id": "c0076026-3640-4e57-858d-a398820a64aa",
   "metadata": {},
   "outputs": [
    {
     "name": "stdout",
     "output_type": "stream",
     "text": [
      "Accuracy: 0.94500005\n"
     ]
    }
   ],
   "source": [
    "n_iter = 10\n",
    "history = jnp.empty(n_iter)\n",
    "accuracy = jnp.empty(n_iter)\n",
    "lr = jnp.array(1.)\n",
    "for i in range(n_iter):\n",
    "    pred = jax_forward(jax_w, jax_X)\n",
    "    loss = jax_loss(jax_w, jax_X, jax_y)\n",
    "    acc = jax_accuracy(pred, jax_y)\n",
    "    history = jax.ops.index_update(history, i, loss)\n",
    "    accuracy = jax.ops.index_update(accuracy, i, acc)\n",
    "    grad = jax_grad(jax_w, jax_X, jax_y)\n",
    "\n",
    "    # For me gradients were 1000 times smaller than numpy\n",
    "    # for this reason I choose learning rate = 1\n",
    "    jax_w = jax_update_params(jax_w, grad, lr)\n",
    "    \n",
    "print(\"Accuracy:\", acc)"
   ]
  },
  {
   "cell_type": "code",
   "execution_count": 17,
   "id": "e3e4b2a0-3aec-4abb-98b9-ec51957865ca",
   "metadata": {},
   "outputs": [
    {
     "data": {
      "text/plain": [
       "DeviceArray([ 0.10926955, -0.03457669, -0.00194332,  0.6339342 ,\n",
       "              1.0479305 , -0.03072206,  0.08916049,  1.4511346 ,\n",
       "             -0.0101902 , -0.00855312, -0.03996328], dtype=float32)"
      ]
     },
     "execution_count": 17,
     "metadata": {},
     "output_type": "execute_result"
    }
   ],
   "source": [
    "jax_w"
   ]
  },
  {
   "cell_type": "code",
   "execution_count": 18,
   "id": "91baa87a-073e-41be-94ba-6336e4960e61",
   "metadata": {},
   "outputs": [
    {
     "data": {
      "image/png": "[encoded data removed]",
      "text/plain": [
       "<Figure size 864x432 with 1 Axes>"
      ]
     },
     "metadata": {
      "needs_background": "light"
     },
     "output_type": "display_data"
    }
   ],
   "source": [
    "plt.plot(history)\n",
    "plt.plot(accuracy)\n",
    "plt.legend([\"Loss\", \"Accuracy\"])\n",
    "plt.show()"
   ]
  },
  {
   "cell_type": "markdown",
   "id": "2167b91e-5db7-447b-ae0e-2652142fa80f",
   "metadata": {},
   "source": [
    "## MxNet"
   ]
  },
  {
   "cell_type": "code",
   "execution_count": 19,
   "id": "2fe7d8d1-1ca4-4289-b10a-37a3f0de87c5",
   "metadata": {},
   "outputs": [],
   "source": [
    "import mxnet as mx"
   ]
  },
  {
   "cell_type": "code",
   "execution_count": 20,
   "id": "fd43b20b-1ab8-4580-b54e-0bb9cd38d8c2",
   "metadata": {},
   "outputs": [],
   "source": [
    "def mx_accuracy(y_pred, y):\n",
    "    return mx.nd.mean(mx.nd.round(y_pred) == y)\n",
    "\n",
    "def mx_sigmoid(x):\n",
    "    return 1 / (1 + mx.nd.exp(-x))\n",
    "\n",
    "def mx_forward(w, X):\n",
    "    return mx_sigmoid(mx.nd.dot(X, w))\n",
    "\n",
    "def mx_loss(y_pred, y):\n",
    "    p_1 = -y * mx.nd.log(y_pred)\n",
    "    p_0 = -(1 - y) * mx.nd.log(1 - y_pred)\n",
    "    return mx.nd.mean(p_0 + p_1)\n",
    "\n",
    "def mx_update_params(w, grad, lr):\n",
    "    return w - lr * grad"
   ]
  },
  {
   "cell_type": "code",
   "execution_count": 21,
   "id": "9471ddb6-4bef-4348-8d95-0634a6000c82",
   "metadata": {},
   "outputs": [],
   "source": [
    "# Mx already uses numpy inserting\n",
    "# so I used numpy \n",
    "mx_X = mx.nd.array(np.insert(X, 0, 1, axis=1))\n",
    "mx_y = mx.nd.array(y)\n",
    "mx_w = mx.nd.zeros((mx_X.shape[1]))"
   ]
  },
  {
   "cell_type": "code",
   "execution_count": 22,
   "id": "24ee7069-2152-44c7-b54d-4413aa5edb8e",
   "metadata": {},
   "outputs": [
    {
     "name": "stdout",
     "output_type": "stream",
     "text": [
      "Accuracy: 0.945\n"
     ]
    }
   ],
   "source": [
    "n_iter = 10\n",
    "history = mx.nd.empty(n_iter)\n",
    "accuracy = mx.nd.empty(n_iter)\n",
    "for i in range(n_iter):\n",
    "    mx_w.attach_grad()\n",
    "    with mx.autograd.record():\n",
    "        pred = mx_forward(mx_w, mx_X)\n",
    "        loss = mx_loss(pred, mx_y)\n",
    "    history[i] = loss.asscalar()\n",
    "    accuracy[i] = mx_accuracy(pred, mx_y).asscalar()\n",
    "    loss.backward()\n",
    "    \n",
    "    # Same as jax gradients were 1000 times smaller than numpy\n",
    "    # for this reason I choose learning rate = 1\n",
    "    mx_w = mx_update_params(mx_w, mx_w.grad, 1)\n",
    "    \n",
    "print(\"Accuracy:\", accuracy[-1].asscalar())"
   ]
  },
  {
   "cell_type": "code",
   "execution_count": 23,
   "id": "8daa7871-3407-41d1-be67-f9b40d6b5563",
   "metadata": {},
   "outputs": [
    {
     "data": {
      "text/plain": [
       "array([ 0.10926956, -0.0345767 , -0.00194332,  0.63393414,  1.0479305 ,\n",
       "       -0.03072206,  0.08916049,  1.4511344 , -0.01019019, -0.00855316,\n",
       "       -0.03996328], dtype=float32)"
      ]
     },
     "execution_count": 23,
     "metadata": {},
     "output_type": "execute_result"
    }
   ],
   "source": [
    "mx_w.asnumpy()"
   ]
  },
  {
   "cell_type": "code",
   "execution_count": 24,
   "id": "f6c82ad8-4c62-4608-9ca5-05d1c6cb181d",
   "metadata": {},
   "outputs": [
    {
     "data": {
      "image/png": "[encoded data removed]",
      "text/plain": [
       "<Figure size 864x432 with 1 Axes>"
      ]
     },
     "metadata": {
      "needs_background": "light"
     },
     "output_type": "display_data"
    }
   ],
   "source": [
    "plt.plot(history.asnumpy())\n",
    "plt.plot(accuracy.asnumpy())\n",
    "plt.legend([\"Loss\", \"Accuracy\"])\n",
    "plt.show()"
   ]
  },
  {
   "cell_type": "markdown",
   "id": "b6fb1c2d-3d8d-43fa-82f0-cf039be486e6",
   "metadata": {},
   "source": [
    "## Tensorflow"
   ]
  },
  {
   "cell_type": "code",
   "execution_count": 25,
   "id": "35f320a3-0b16-4e9a-aefb-430a882e2731",
   "metadata": {},
   "outputs": [],
   "source": [
    "import tensorflow as tf\n",
    "tf.config.set_visible_devices([], 'GPU')\n",
    "visible_devices = tf.config.get_visible_devices()\n",
    "for device in visible_devices:\n",
    "    assert device.device_type != 'GPU'"
   ]
  },
  {
   "cell_type": "code",
   "execution_count": 26,
   "id": "8d201448-c2ac-49d0-9aa2-af1ddfd4cb34",
   "metadata": {},
   "outputs": [
    {
     "data": {
      "text/plain": [
       "<function tensorflow.python.ops.math_ops.cast(x, dtype, name=None)>"
      ]
     },
     "execution_count": 26,
     "metadata": {},
     "output_type": "execute_result"
    }
   ],
   "source": [
    "tf.cast"
   ]
  },
  {
   "cell_type": "code",
   "execution_count": 27,
   "id": "719f2cc1-986c-407d-b686-06a5c0230e7a",
   "metadata": {},
   "outputs": [],
   "source": [
    "def tf_accuracy(y_pred, y):\n",
    "    return tf.math.reduce_mean(tf.cast(tf.round(y_pred) == y, dtype=tf.float64))\n",
    "\n",
    "def tf_sigmoid(x):\n",
    "    return 1 / (1 + tf.exp(-x))\n",
    "\n",
    "def tf_forward(w, X):\n",
    "    return tf_sigmoid(tf.tensordot(X, w, 1))\n",
    "\n",
    "def tf_loss(y_pred, y):\n",
    "    p_1 = -y * tf.math.log(y_pred)\n",
    "    p_0 = -(1 - y) * tf.math.log(1 - y_pred)\n",
    "    return tf.math.reduce_mean(p_0 + p_1)\n",
    "\n",
    "def tf_update_params(w, grad, lr):\n",
    "    # Do not do operations without builtin assing op functions\n",
    "    # Or it will break variable and tf cannot calculate gradients\n",
    "    w.assign_sub(lr * grad)"
   ]
  },
  {
   "cell_type": "code",
   "execution_count": 28,
   "id": "118530ad-45f1-49f3-9e20-a71198d5934f",
   "metadata": {},
   "outputs": [],
   "source": [
    "# Insertion can be done with scatter\n",
    "# but due to immutability of tensor\n",
    "# I prefer to use numpy again\n",
    "tf_X = tf.constant(np.insert(X, 0, 1, axis=1))\n",
    "tf_y = tf.constant(y, dtype=tf.double)\n",
    "tf_w = tf.Variable(tf.zeros((tf_X.shape[1]), dtype=tf.double))"
   ]
  },
  {
   "cell_type": "code",
   "execution_count": 29,
   "id": "e2fc419f-94a5-4409-a887-e50d7e84c72a",
   "metadata": {},
   "outputs": [
    {
     "name": "stdout",
     "output_type": "stream",
     "text": [
      "Accuracy: 0.945\n"
     ]
    }
   ],
   "source": [
    "n_iter = 10\n",
    "# What I hate about tensorflow is that it is a real close box\n",
    "# You cannot assign a value by all correctness\n",
    "# There is always you a caveat, so I had to use numpy for history\n",
    "history = np.empty(n_iter)\n",
    "accuracy = np.empty(n_iter)\n",
    "for i in range(n_iter):\n",
    "    with tf.GradientTape() as tape:\n",
    "        pred = tf_forward(tf_w, tf_X)\n",
    "        loss = tf_loss(pred, tf_y)\n",
    "    history[i] = loss.numpy()\n",
    "    accuracy[i] = tf_accuracy(pred, tf_y).numpy()\n",
    "    grad = tape.gradient(loss, tf_w)\n",
    "\n",
    "    # Same as jax gradients were 1000 times smaller than numpy\n",
    "    # for this reason I choose learning rate = 1\n",
    "    tf_update_params(tf_w, grad, 1.0)\n",
    "print(\"Accuracy:\", accuracy[-1])"
   ]
  },
  {
   "cell_type": "code",
   "execution_count": 30,
   "id": "8f230497-f355-4d94-953b-87914f01e22f",
   "metadata": {},
   "outputs": [
    {
     "data": {
      "text/plain": [
       "<tf.Variable 'Variable:0' shape=(11,) dtype=float64, numpy=\n",
       "array([ 0.10926956, -0.0345767 , -0.00194332,  0.6339341 ,  1.04793049,\n",
       "       -0.03072205,  0.08916048,  1.45113449, -0.01019018, -0.00855314,\n",
       "       -0.03996327])>"
      ]
     },
     "execution_count": 30,
     "metadata": {},
     "output_type": "execute_result"
    }
   ],
   "source": [
    "tf_w"
   ]
  },
  {
   "cell_type": "code",
   "execution_count": 31,
   "id": "ca903a53-3ed0-4455-af8a-d82b2b438a82",
   "metadata": {},
   "outputs": [
    {
     "data": {
      "image/png": "[encoded data removed]",
      "text/plain": [
       "<Figure size 864x432 with 1 Axes>"
      ]
     },
     "metadata": {
      "needs_background": "light"
     },
     "output_type": "display_data"
    }
   ],
   "source": [
    "plt.plot(history)\n",
    "plt.plot(accuracy)\n",
    "plt.legend([\"Loss\", \"Accuracy\"])\n",
    "plt.show()"
   ]
  },
  {
   "cell_type": "markdown",
   "id": "d611e25e-6f5b-4be4-8042-7ac59bf5a773",
   "metadata": {},
   "source": [
    "## Torch"
   ]
  },
  {
   "cell_type": "code",
   "execution_count": 32,
   "id": "b8bda554-20f3-44dd-b637-a383bc9fd9d0",
   "metadata": {},
   "outputs": [],
   "source": [
    "import torch"
   ]
  },
  {
   "cell_type": "code",
   "execution_count": 33,
   "id": "161f8b02-48d6-4a0d-94a0-9925f5f50d06",
   "metadata": {},
   "outputs": [],
   "source": [
    "def torch_accuracy(y_pred, y):\n",
    "    return torch.mean((torch.round(y_pred) == y).float())\n",
    "\n",
    "def torch_sigmoid(x):\n",
    "    return 1 / (1 + torch.exp(-x))\n",
    "\n",
    "def torch_forward(w, X):\n",
    "    return torch_sigmoid(X @ w)\n",
    "\n",
    "def torch_loss(y_pred, y):\n",
    "    p_1 = -y * torch.log(y_pred)\n",
    "    p_0 = -(1 - y) * torch.log(1 - y_pred)\n",
    "    return torch.mean(p_0 + p_1)"
   ]
  },
  {
   "cell_type": "code",
   "execution_count": 34,
   "id": "b3c53b77-f9ba-4b6d-9f8a-fff230c3a51e",
   "metadata": {},
   "outputs": [],
   "source": [
    "torch_X = torch.from_numpy(X)\n",
    "torch_X = torch.cat((torch.ones((torch_X.shape[0], 1)), torch_X), 1)\n",
    "torch_y = torch.from_numpy(y)\n",
    "torch_w = torch.zeros(torch_X.shape[1], dtype=torch.float64, requires_grad=True)\n",
    "optimizer = torch.optim.SGD([torch_w], lr=1)"
   ]
  },
  {
   "cell_type": "code",
   "execution_count": 35,
   "id": "20e064c0-7c97-4953-92c4-4f43812c21be",
   "metadata": {},
   "outputs": [],
   "source": [
    "n_iter = 10\n",
    "history = torch.empty(n_iter)\n",
    "accuracy = torch.empty(n_iter)\n",
    "for i in range(n_iter):\n",
    "    pred = torch_forward(torch_w, torch_X)\n",
    "    loss = torch_loss(pred, torch_y)\n",
    "    history[i] = loss.item()\n",
    "    accuracy[i] = torch_accuracy(pred, torch_y).item()\n",
    "    loss.backward()\n",
    "    optimizer.step()\n",
    "    optimizer.zero_grad()"
   ]
  },
  {
   "cell_type": "code",
   "execution_count": 36,
   "id": "7608202d-8779-46de-98e2-d93d1df4342f",
   "metadata": {},
   "outputs": [
    {
     "data": {
      "text/plain": [
       "tensor([ 0.1093, -0.0346, -0.0019,  0.6339,  1.0479, -0.0307,  0.0892,  1.4511,\n",
       "        -0.0102, -0.0086, -0.0400], dtype=torch.float64, requires_grad=True)"
      ]
     },
     "execution_count": 36,
     "metadata": {},
     "output_type": "execute_result"
    }
   ],
   "source": [
    "torch_w"
   ]
  },
  {
   "cell_type": "code",
   "execution_count": 37,
   "id": "97f5adc5-4155-4bbe-bdae-3d15e65fd406",
   "metadata": {},
   "outputs": [
    {
     "data": {
      "image/png": "[encoded data removed]",
      "text/plain": [
       "<Figure size 864x432 with 1 Axes>"
      ]
     },
     "metadata": {
      "needs_background": "light"
     },
     "output_type": "display_data"
    }
   ],
   "source": [
    "plt.plot(history)\n",
    "plt.plot(accuracy)\n",
    "plt.legend([\"Loss\", \"Accuracy\"])\n",
    "plt.show()"
   ]
  }
 ],
 "metadata": {
  "kernelspec": {
   "display_name": "Python 3 (ipykernel)",
   "language": "python",
   "name": "python3"
  },
  "language_info": {
   "codemirror_mode": {
    "name": "ipython",
    "version": 3
   },
   "file_extension": ".py",
   "mimetype": "text/x-python",
   "name": "python",
   "nbconvert_exporter": "python",
   "pygments_lexer": "ipython3",
   "version": "3.9.4"
  }
 },
 "nbformat": 4,
 "nbformat_minor": 5
}
